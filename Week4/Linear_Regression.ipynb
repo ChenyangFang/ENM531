{
 "cells": [
  {
   "cell_type": "markdown",
   "metadata": {},
   "source": [
    "# Tensorflow Linear Regerssion"
   ]
  },
  {
   "cell_type": "code",
   "execution_count": 2,
   "metadata": {},
   "outputs": [
    {
     "data": {
      "image/png": "[encoded data removed]",
      "text/plain": [
       "<Figure size 432x288 with 1 Axes>"
      ]
     },
     "metadata": {
      "needs_background": "light"
     },
     "output_type": "display_data"
    }
   ],
   "source": [
    "import numpy as np\n",
    "import tensorflow as tf\n",
    "import matplotlib.pyplot as plt\n",
    "np.random.seed(1234)\n",
    "\n",
    "# N number of training data\n",
    "N = 100\n",
    "\n",
    "# x equally distributed from 0 to 1\n",
    "x = np.linspace(0., 1., N)[:,None]\n",
    "\n",
    "# y = x with some noise\n",
    "y = x + np.random.normal(0, 0.1, N)[:,None]\n",
    "\n",
    "# show your training data\n",
    "plt.plot(x,y, 'ro')\n",
    "plt.show()"
   ]
  },
  {
   "cell_type": "code",
   "execution_count": 3,
   "metadata": {},
   "outputs": [
    {
     "name": "stdout",
     "output_type": "stream",
     "text": [
      "(100, 1)\n",
      "(100, 1)\n"
     ]
    }
   ],
   "source": [
    "# check the shape of the training data\n",
    "print(x.shape)\n",
    "print(y.shape)"
   ]
  },
  {
   "cell_type": "code",
   "execution_count": 4,
   "metadata": {},
   "outputs": [
    {
     "name": "stdout",
     "output_type": "stream",
     "text": [
      "WARNING:tensorflow:From /usr/local/anaconda3/lib/python3.7/site-packages/tensorflow/python/ops/math_grad.py:1205: add_dispatch_support.<locals>.wrapper (from tensorflow.python.ops.array_ops) is deprecated and will be removed in a future version.\n",
      "Instructions for updating:\n",
      "Use tf.where in 2.0, which has the same broadcast rule as np.where\n",
      "It: 0, Loss: 9.53e-02\n",
      "It: 100, Loss: 6.70e-02\n",
      "It: 200, Loss: 5.25e-02\n",
      "It: 300, Loss: 4.05e-02\n",
      "It: 400, Loss: 3.11e-02\n",
      "It: 500, Loss: 2.41e-02\n",
      "It: 600, Loss: 1.91e-02\n",
      "It: 700, Loss: 1.57e-02\n",
      "It: 800, Loss: 1.34e-02\n",
      "It: 900, Loss: 1.19e-02\n",
      "It: 1000, Loss: 1.10e-02\n",
      "It: 1100, Loss: 1.05e-02\n",
      "It: 1200, Loss: 1.02e-02\n",
      "It: 1300, Loss: 1.00e-02\n",
      "It: 1400, Loss: 9.97e-03\n",
      "It: 1500, Loss: 9.94e-03\n",
      "It: 1600, Loss: 9.92e-03\n",
      "It: 1700, Loss: 9.91e-03\n",
      "It: 1800, Loss: 9.91e-03\n",
      "It: 1900, Loss: 9.91e-03\n",
      "It: 2000, Loss: 9.91e-03\n",
      "It: 2100, Loss: 9.91e-03\n",
      "It: 2200, Loss: 9.91e-03\n",
      "It: 2300, Loss: 9.91e-03\n",
      "It: 2400, Loss: 9.91e-03\n",
      "It: 2500, Loss: 9.91e-03\n",
      "It: 2600, Loss: 9.91e-03\n",
      "It: 2700, Loss: 9.91e-03\n",
      "It: 2800, Loss: 9.91e-03\n",
      "It: 2900, Loss: 9.91e-03\n",
      "It: 3000, Loss: 9.91e-03\n",
      "It: 3100, Loss: 9.91e-03\n",
      "It: 3200, Loss: 9.91e-03\n",
      "It: 3300, Loss: 9.91e-03\n",
      "It: 3400, Loss: 9.91e-03\n",
      "It: 3500, Loss: 9.91e-03\n",
      "It: 3600, Loss: 9.91e-03\n",
      "It: 3700, Loss: 9.91e-03\n",
      "It: 3800, Loss: 9.91e-03\n",
      "It: 3900, Loss: 9.91e-03\n",
      "It: 4000, Loss: 9.91e-03\n",
      "It: 4100, Loss: 9.91e-03\n",
      "It: 4200, Loss: 9.91e-03\n",
      "It: 4300, Loss: 9.91e-03\n",
      "It: 4400, Loss: 9.91e-03\n",
      "It: 4500, Loss: 9.91e-03\n",
      "It: 4600, Loss: 9.91e-03\n",
      "It: 4700, Loss: 9.91e-03\n",
      "It: 4800, Loss: 9.91e-03\n",
      "It: 4900, Loss: 9.91e-03\n"
     ]
    },
    {
     "data": {
      "image/png": "[encoded data removed]",
      "text/plain": [
       "<Figure size 432x288 with 1 Axes>"
      ]
     },
     "metadata": {
      "needs_background": "light"
     },
     "output_type": "display_data"
    }
   ],
   "source": [
    "# Define the placeholder for x and Y \n",
    "X = tf.placeholder(tf.float32, shape=(N, 1))\n",
    "Y = tf.placeholder(tf.float32, shape=(N, 1))\n",
    "\n",
    "# Introduce the weight and the bias\n",
    "W = tf.Variable(np.random.randn())\n",
    "b = tf.Variable(np.random.randn())\n",
    "\n",
    "# Define the forward path that takes x as input and output y_pred\n",
    "Y_pred = tf.multiply(X, W)  + b \n",
    "\n",
    "# Define your loss function (in this case is mean square loss)\n",
    "loss = tf.reduce_mean((Y - Y_pred) ** 2)\n",
    "\n",
    "# Define learning rate\n",
    "learning_rate = 0.001\n",
    "\n",
    "# Define the number of iterations\n",
    "iterations = 5000\n",
    "\n",
    "#optimizer = tf.train.GradientDescentOptimizer(learning_rate).minimize(loss)\n",
    "optimizer =tf.train.AdamOptimizer(learning_rate).minimize(loss)\n",
    "\n",
    "# initialize the model and variables\n",
    "init = tf.global_variables_initializer() \n",
    "\n",
    "# conduct the training (the previous operations are just for defining operations, now we start to conduct these ops)\n",
    "# every time you want to conduct some action, you need to use sess.run()\n",
    "with tf.Session() as sess:\n",
    "    # initialize the model and variables\n",
    "    sess.run(init) \n",
    "    # start iterations\n",
    "    for epochs in range(iterations):\n",
    "        # conduct the optimizer and also compute the loss value\n",
    "        _, Loss = sess.run([optimizer, loss], feed_dict = {X : x, Y : y})\n",
    "        # for every 100 iterations, see the values\n",
    "        if epochs % 100 == 0:\n",
    "#            weight = sess.run(W)\n",
    " #           bias = sess.run(b)\n",
    "            print('It: %d, Loss: %.2e' % (epochs, Loss))\n",
    "            \n",
    "    # do inference given some new x (here we are using the original x)\n",
    "    Y_p = sess.run(Y_pred, feed_dict = {X : x})\n",
    "    \n",
    "    # plot the predicted line\n",
    "    plt.plot(x, Y_p,'b-')\n",
    "    \n",
    "    # plot the training data\n",
    "    plt.plot(x, y,'ro')\n",
    "    \n",
    "    # show the figure\n",
    "    plt.show()\n",
    "            "
   ]
  },
  {
   "cell_type": "code",
   "execution_count": null,
   "metadata": {},
   "outputs": [],
   "source": []
  },
  {
   "cell_type": "markdown",
   "metadata": {},
   "source": [
    "# Pytorch Linear Regression"
   ]
  },
  {
   "cell_type": "code",
   "execution_count": 6,
   "metadata": {},
   "outputs": [
    {
     "data": {
      "image/png": "[encoded data removed]",
      "text/plain": [
       "<Figure size 432x288 with 1 Axes>"
      ]
     },
     "metadata": {
      "needs_background": "light"
     },
     "output_type": "display_data"
    }
   ],
   "source": [
    "import numpy as np\n",
    "import torch\n",
    "import matplotlib.pyplot as plt\n",
    "np.random.seed(1234)\n",
    "\n",
    "# total number of training points\n",
    "N = 100\n",
    "\n",
    "# x equally distributed from 0 to 1\n",
    "x = np.linspace(0., 1., N)[:,None]\n",
    "\n",
    "# y = x with some noise\n",
    "y = x + np.random.normal(0, 0.1, N)[:,None]\n",
    "\n",
    "# show your training data\n",
    "plt.plot(x,y, 'ro')\n",
    "plt.show()"
   ]
  },
  {
   "cell_type": "code",
   "execution_count": 7,
   "metadata": {},
   "outputs": [
    {
     "name": "stdout",
     "output_type": "stream",
     "text": [
      "It: 0, Loss: 7.96e-02\n",
      "It: 100, Loss: 2.56e-02\n",
      "It: 200, Loss: 2.16e-02\n",
      "It: 300, Loss: 1.89e-02\n",
      "It: 400, Loss: 1.68e-02\n",
      "It: 500, Loss: 1.52e-02\n",
      "It: 600, Loss: 1.39e-02\n",
      "It: 700, Loss: 1.30e-02\n",
      "It: 800, Loss: 1.23e-02\n",
      "It: 900, Loss: 1.17e-02\n",
      "It: 1000, Loss: 1.13e-02\n",
      "It: 1100, Loss: 1.10e-02\n",
      "It: 1200, Loss: 1.07e-02\n",
      "It: 1300, Loss: 1.05e-02\n",
      "It: 1400, Loss: 1.04e-02\n",
      "It: 1500, Loss: 1.03e-02\n",
      "It: 1600, Loss: 1.02e-02\n",
      "It: 1700, Loss: 1.01e-02\n",
      "It: 1800, Loss: 1.01e-02\n",
      "It: 1900, Loss: 1.00e-02\n",
      "It: 2000, Loss: 1.00e-02\n",
      "It: 2100, Loss: 9.98e-03\n",
      "It: 2200, Loss: 9.96e-03\n",
      "It: 2300, Loss: 9.95e-03\n",
      "It: 2400, Loss: 9.94e-03\n",
      "It: 2500, Loss: 9.93e-03\n",
      "It: 2600, Loss: 9.93e-03\n",
      "It: 2700, Loss: 9.92e-03\n",
      "It: 2800, Loss: 9.92e-03\n",
      "It: 2900, Loss: 9.92e-03\n",
      "It: 3000, Loss: 9.92e-03\n",
      "It: 3100, Loss: 9.91e-03\n",
      "It: 3200, Loss: 9.91e-03\n",
      "It: 3300, Loss: 9.91e-03\n",
      "It: 3400, Loss: 9.91e-03\n",
      "It: 3500, Loss: 9.91e-03\n",
      "It: 3600, Loss: 9.91e-03\n",
      "It: 3700, Loss: 9.91e-03\n",
      "It: 3800, Loss: 9.91e-03\n",
      "It: 3900, Loss: 9.91e-03\n",
      "It: 4000, Loss: 9.91e-03\n",
      "It: 4100, Loss: 9.91e-03\n",
      "It: 4200, Loss: 9.91e-03\n",
      "It: 4300, Loss: 9.91e-03\n",
      "It: 4400, Loss: 9.91e-03\n",
      "It: 4500, Loss: 9.91e-03\n",
      "It: 4600, Loss: 9.91e-03\n",
      "It: 4700, Loss: 9.91e-03\n",
      "It: 4800, Loss: 9.91e-03\n",
      "It: 4900, Loss: 9.91e-03\n"
     ]
    },
    {
     "data": {
      "image/png": "[encoded data removed]",
      "text/plain": [
       "<Figure size 432x288 with 1 Axes>"
      ]
     },
     "metadata": {
      "needs_background": "light"
     },
     "output_type": "display_data"
    }
   ],
   "source": [
    "# define torch variables (torch tensor) for x and y\n",
    "X = torch.from_numpy(x).type(torch.FloatTensor)\n",
    "Y = torch.from_numpy(y).type(torch.FloatTensor)\n",
    "\n",
    "# define a class for linear layer\n",
    "class Linear_Layer(torch.nn.Module):\n",
    "    def __init__(self):\n",
    "        # define all your operations for the different components in the neural network\n",
    "        super(Linear_Layer, self).__init__()\n",
    "        self.linear = torch.nn.Linear(1, 1) \n",
    "        \n",
    "    # concatenate all your defined operations together to form a forward path\n",
    "    def forward(self, x):\n",
    "        y_pred = self.linear(x)\n",
    "        return y_pred\n",
    "    \n",
    "# call your linear layer class\n",
    "FCL = Linear_Layer()\n",
    "    \n",
    "# define a function to compute the loss \n",
    "def compute_loss(X, Y):\n",
    "    # feed some torch tensor into your linear layer and get the output\n",
    "    Y_pred = FCL(X)\n",
    "    \n",
    "    # compare your output with your target value and conduct the loss function\n",
    "    return torch.mean((Y - Y_pred)**2)\n",
    "\n",
    "\n",
    "# define your learning rate\n",
    "learning_rate = 0.01\n",
    "\n",
    "# specify the number of iterations\n",
    "iterations = 5000\n",
    "\n",
    "# define your optimizer\n",
    "optimizer = torch.optim.SGD(FCL.parameters(), lr = learning_rate)\n",
    "\n",
    "# start iterations\n",
    "for epochs in range(iterations):\n",
    "    \n",
    "    # compute loss\n",
    "    loss = compute_loss(X, Y)\n",
    "    \n",
    "    # Zero gradients\n",
    "    optimizer.zero_grad()\n",
    "    \n",
    "    # perform backward pass (this will automatically compute all the gradients and will enable you to call optimizer)\n",
    "    loss.backward()\n",
    "    \n",
    "    # update weights using your defined optimizer\n",
    "    optimizer.step()\n",
    "    \n",
    "    # monitor the process\n",
    "    if epochs % 100 == 0:\n",
    "        print('It: %d, Loss: %.2e' % (epochs, loss))\n",
    "    \n",
    "    \n",
    "# making prediction\n",
    "Y_pred = FCL(X)\n",
    "\n",
    "# convert the predicted tensor into numpy format\n",
    "Y_p = Y_pred.cpu().data.numpy()\n",
    "\n",
    "# see the results\n",
    "plt.plot(x, Y_p,'b-')\n",
    "plt.plot(x, y,'ro')\n",
    "plt.show()\n"
   ]
  },
  {
   "cell_type": "code",
   "execution_count": null,
   "metadata": {},
   "outputs": [],
   "source": []
  },
  {
   "cell_type": "code",
   "execution_count": null,
   "metadata": {},
   "outputs": [],
   "source": []
  },
  {
   "cell_type": "code",
   "execution_count": null,
   "metadata": {},
   "outputs": [],
   "source": []
  }
 ],
 "metadata": {
  "kernelspec": {
   "display_name": "Python 3",
   "language": "python",
   "name": "python3"
  },
  "language_info": {
   "codemirror_mode": {
    "name": "ipython",
    "version": 3
   },
   "file_extension": ".py",
   "mimetype": "text/x-python",
   "name": "python",
   "nbconvert_exporter": "python",
   "pygments_lexer": "ipython3",
   "version": "3.7.3"
  }
 },
 "nbformat": 4,
 "nbformat_minor": 2
}
